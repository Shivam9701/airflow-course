{
 "cells": [
  {
   "cell_type": "code",
   "execution_count": 1,
   "id": "48a5db3f",
   "metadata": {},
   "outputs": [],
   "source": [
    "import csv"
   ]
  },
  {
   "cell_type": "code",
   "execution_count": 1,
   "id": "94f31d37",
   "metadata": {},
   "outputs": [
    {
     "data": {
      "text/plain": [
       "''"
      ]
     },
     "execution_count": 1,
     "metadata": {},
     "output_type": "execute_result"
    }
   ],
   "source": [
    "with open(\"/tmp/user_data.csv\", \"w\") as f:\n",
    "    f.write(\"\")\n",
    "\n",
    "with open(\"/tmp/user_data.csv\") as f:\n",
    "    data = f.readline()\n",
    "data"
   ]
  },
  {
   "cell_type": "code",
   "execution_count": 3,
   "id": "dce17640",
   "metadata": {},
   "outputs": [],
   "source": [
    "with open(\"/tmp/user_data.csv\", \"r\") as f:\n",
    "    data = f.read()\n",
    "    with open(\"/tmp/data_transformed.csv\", \"w\") as fw:\n",
    "        fw.write(f\"{data}\\ntransformed: yes\")"
   ]
  },
  {
   "cell_type": "code",
   "execution_count": null,
   "id": "f0f4a563",
   "metadata": {},
   "outputs": [],
   "source": []
  }
 ],
 "metadata": {
  "kernelspec": {
   "display_name": ".airflow-venv",
   "language": "python",
   "name": "python3"
  },
  "language_info": {
   "codemirror_mode": {
    "name": "ipython",
    "version": 3
   },
   "file_extension": ".py",
   "mimetype": "text/x-python",
   "name": "python",
   "nbconvert_exporter": "python",
   "pygments_lexer": "ipython3",
   "version": "3.12.3"
  }
 },
 "nbformat": 4,
 "nbformat_minor": 5
}
